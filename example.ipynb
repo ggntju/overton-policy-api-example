{
 "cells": [
  {
   "cell_type": "code",
   "execution_count": 2,
   "metadata": {},
   "outputs": [],
   "source": [
    "from dotenv import load_dotenv\n",
    "import requests\n",
    "import os\n",
    "import pandas as pd"
   ]
  },
  {
   "cell_type": "code",
   "execution_count": 3,
   "metadata": {},
   "outputs": [],
   "source": [
    "load_dotenv()\n",
    "api_key = os.getenv('OVERTON_API_KEY')\n",
    "query = \"china | chinese | sino\"\n",
    "base_url = \"https://app.overton.io/documents.php\"\n",
    "output_format = \"json\"\n",
    "\n",
    "payload = {\n",
    "    \"api_key\": api_key,\n",
    "    \"query\": query,\n",
    "    \"format\": output_format\n",
    "}"
   ]
  },
  {
   "cell_type": "code",
   "execution_count": 4,
   "metadata": {},
   "outputs": [],
   "source": [
    "r = requests.get(base_url, params=payload)\n",
    "response = r.json()\n",
    "print(response)\n"
   ]
  },
  {
   "cell_type": "code",
   "execution_count": 5,
   "metadata": {},
   "outputs": [],
   "source": [
    "print(type(response))"
   ]
  },
  {
   "cell_type": "code",
   "execution_count": 35,
   "metadata": {},
   "outputs": [
    {
     "ename": "NameError",
     "evalue": "name 'true' is not defined",
     "output_type": "error",
     "traceback": [
      "\u001b[31m---------------------------------------------------------------------------\u001b[39m",
      "\u001b[31mNameError\u001b[39m                                 Traceback (most recent call last)",
      "\u001b[36mCell\u001b[39m\u001b[36m \u001b[39m\u001b[32mIn[35]\u001b[39m\u001b[32m, line 30\u001b[39m\n\u001b[32m     26\u001b[39m     page_df.to_excel(\u001b[33m\"\u001b[39m\u001b[33mpage_\u001b[39m\u001b[33m\"\u001b[39m + \u001b[38;5;28mstr\u001b[39m(page_index) + \u001b[33m\"\u001b[39m\u001b[33m.xlsx\u001b[39m\u001b[33m\"\u001b[39m, index=\u001b[38;5;28;01mFalse\u001b[39;00m)\n\u001b[32m     27\u001b[39m     \u001b[38;5;28;01mreturn\u001b[39;00m next_page_url\n\u001b[32m---> \u001b[39m\u001b[32m30\u001b[39m next_page_url = process_response(response, \u001b[32m1\u001b[39m, \u001b[43mtrue\u001b[49m)\n",
      "\u001b[31mNameError\u001b[39m: name 'true' is not defined"
     ]
    }
   ],
   "source": [
    "def process_response(response: dict, page_index: int, output_flag: bool) -> str:\n",
    "    next_page_url = \"\"\n",
    "    page_df = pd.DataFrame()\n",
    "    try:\n",
    "        query = response[\"query\"]\n",
    "        next_page_url = query[\"next_page_url\"]\n",
    "    except:\n",
    "        message = \"query not found in page index \" + str(page_index)\n",
    "        print(message)\n",
    "\n",
    "    try:\n",
    "        facets = response[\"facets\"]\n",
    "    except:\n",
    "        message = \"facets not found in page index \" + str(page_index)\n",
    "        print(message)\n",
    "\n",
    "    try:\n",
    "        results = response[\"results\"]\n",
    "        for result in results:\n",
    "            df = pd.DataFrame.from_dict(result, orient='index').transpose()\n",
    "            page_df = pd.concat([page_df, df])\n",
    "    except:\n",
    "        message = \"results not found in page index \" + str(page_index)\n",
    "        print(message)  \n",
    "\n",
    "    page_df.to_excel(\"page_\" + str(page_index) + \".xlsx\", index=False)\n",
    "    return next_page_url\n",
    "\n",
    "\n",
    "next_page_url = process_response(response, 1, true)"
   ]
  },
  {
   "cell_type": "code",
   "execution_count": 32,
   "metadata": {},
   "outputs": [],
   "source": [
    "print(next_page_url)"
   ]
  },
  {
   "cell_type": "code",
   "execution_count": null,
   "metadata": {},
   "outputs": [],
   "source": [
    "r = requests.get(next_page_url)\n",
    "response = r.json()\n",
    "print(response)"
   ]
  },
  {
   "cell_type": "code",
   "execution_count": 37,
   "metadata": {},
   "outputs": [],
   "source": []
  }
 ],
 "metadata": {
  "kernelspec": {
   "display_name": "data_mining",
   "language": "python",
   "name": "python3"
  },
  "language_info": {
   "codemirror_mode": {
    "name": "ipython",
    "version": 3
   },
   "file_extension": ".py",
   "mimetype": "text/x-python",
   "name": "python",
   "nbconvert_exporter": "python",
   "pygments_lexer": "ipython3",
   "version": "3.11.11"
  }
 },
 "nbformat": 4,
 "nbformat_minor": 2
}
