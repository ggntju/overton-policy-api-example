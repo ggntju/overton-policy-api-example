{
 "cells": [
  {
   "cell_type": "code",
   "execution_count": 1,
   "metadata": {},
   "outputs": [],
   "source": [
    "import time\n",
    "from OvertonApiUser import OvertonApiUser"
   ]
  },
  {
   "cell_type": "code",
   "execution_count": 2,
   "metadata": {},
   "outputs": [],
   "source": [
    "user = OvertonApiUser(query=\"china | chinese | sino\")"
   ]
  },
  {
   "cell_type": "code",
   "execution_count": 3,
   "metadata": {},
   "outputs": [
    {
     "name": "stdout",
     "output_type": "stream",
     "text": [
      "processing page 1 ...\n"
     ]
    }
   ],
   "source": [
    "user.initialRequest()"
   ]
  },
  {
   "cell_type": "code",
   "execution_count": null,
   "metadata": {},
   "outputs": [
    {
     "name": "stdout",
     "output_type": "stream",
     "text": [
      "processing page 2 of 1000...\n",
      "processing page 3 of 1000...\n",
      "processing page 4 of 1000...\n",
      "processing page 5 of 1000...\n",
      "processing page 6 of 1000...\n",
      "processing page 7 of 1000...\n",
      "processing page 8 of 1000...\n",
      "processing page 9 of 1000...\n"
     ]
    }
   ],
   "source": [
    "for i in range(2, 1001):\n",
    "    flag = user.nextRequest()\n",
    "    time.sleep(2)"
   ]
  }
 ],
 "metadata": {
  "kernelspec": {
   "display_name": "data_mining",
   "language": "python",
   "name": "python3"
  },
  "language_info": {
   "codemirror_mode": {
    "name": "ipython",
    "version": 3
   },
   "file_extension": ".py",
   "mimetype": "text/x-python",
   "name": "python",
   "nbconvert_exporter": "python",
   "pygments_lexer": "ipython3",
   "version": "3.11.5"
  }
 },
 "nbformat": 4,
 "nbformat_minor": 2
}
